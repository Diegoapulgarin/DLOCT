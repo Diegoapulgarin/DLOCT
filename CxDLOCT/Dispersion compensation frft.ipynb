{
 "cells": [
  {
   "cell_type": "code",
   "execution_count": null,
   "metadata": {},
   "outputs": [],
   "source": [
    "import numpy as np\n",
    "import os\n",
    "from numpy.fft import fft, ifft, fftshift\n",
    "\n",
    "def extract_dimensions(file_name):\n",
    "    parts = file_name.split('_')\n",
    "    dimensions = []\n",
    "    for part in parts:\n",
    "        if 'z=' in part or 'x=' in part or 'y=' in part:\n",
    "            number = int(part.split('=')[-1])\n",
    "            dimensions.append(number)\n",
    "    return tuple(dimensions)\n",
    "\n",
    "def read_tomogram(file_path, dimensions):\n",
    "    depth, height, width = dimensions\n",
    "    with open(file_path, 'rb') as file:\n",
    "        tomogram = np.fromfile(file, dtype='single')\n",
    "        tomogram = tomogram.reshape((depth, height, width),order='F')\n",
    "    return tomogram"
   ]
  },
  {
   "cell_type": "code",
   "execution_count": null,
   "metadata": {},
   "outputs": [],
   "source": [
    "pathcomplex = r'C:\\Users\\USER\\Documents\\GitHub\\[s.fovea]11bscan'\n",
    "artifact_files = os.listdir(pathcomplex)\n",
    "for imag_file, real_file in zip(artifact_files[::2], artifact_files[1::2]):\n",
    "        real_file_path = os.path.join(pathcomplex, real_file)\n",
    "        imag_file_path = os.path.join(pathcomplex, imag_file)\n",
    "        dimensions = extract_dimensions(real_file[:-4])\n",
    "        tomReal = read_tomogram(real_file_path, dimensions)\n",
    "        tomImag = read_tomogram(imag_file_path, dimensions)\n",
    "        tomcc = tomReal + 1j * tomImag\n",
    "        fringescc = fftshift(ifft(tomcc,axis=0),axes=0)\n",
    "        fringescc = np.stack((fringescc.real,fringescc.imag),axis=3)\n",
    "        del tomImag, tomReal\n",
    "# fringescc = fftshift(ifft(fftshift(tom,axes=0),axis=0),axes=0)\n",
    "# fringescc = fftshift(ifft(tomcc,axis=0),axes=0)\n",
    "\n",
    "pathcomplex = r'C:\\Users\\USER\\Documents\\GitHub\\[s.fovea]11bscanNoartifacts'\n",
    "artifact_files = os.listdir(pathcomplex)\n",
    "for imag_file, real_file in zip(artifact_files[::2], artifact_files[1::2]):\n",
    "        real_file_path = os.path.join(pathcomplex, real_file)\n",
    "        imag_file_path = os.path.join(pathcomplex, imag_file)\n",
    "        dimensions = extract_dimensions(real_file[:-4])\n",
    "        tomReal = read_tomogram(real_file_path, dimensions)\n",
    "        tomImag = read_tomogram(imag_file_path, dimensions)\n",
    "        tom = tomReal + 1j * tomImag\n",
    "        fringes = fftshift(ifft(tom,axis=0),axes=0)\n",
    "        fringes = np.stack((fringes.real,fringes.imag),axis=3)\n",
    "        del tomImag, tomReal\n",
    "# fringescc = fftshift(ifft(fftshift(tom,axes=0),axis=0),axes=0)\n",
    "# fringes = fftshift(ifft(tom,axis=0),axes=0)\n",
    "\n",
    "fringesccHilbert = hilbert(fringescc[:,:,:,0],axis=0)\n",
    "fringesccAnalytic = fringescc[:,:,:,0] + 1j*fringesccHilbert\n",
    "fringesccAnalytic = np.stack((fringesccAnalytic.real,fringesccAnalytic.imag),axis=3)\n",
    "del fringesccHilbert"
   ]
  }
 ],
 "metadata": {
  "kernelspec": {
   "display_name": "tg",
   "language": "python",
   "name": "python3"
  },
  "language_info": {
   "name": "python",
   "version": "3.8.17"
  }
 },
 "nbformat": 4,
 "nbformat_minor": 2
}
